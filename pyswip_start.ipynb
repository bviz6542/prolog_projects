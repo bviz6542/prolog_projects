{
  "cells": [
    {
      "cell_type": "code",
      "source": [
        "!apt install swi-prolog"
      ],
      "metadata": {
        "colab": {
          "base_uri": "https://localhost:8080/"
        },
        "id": "IbCeQ5zADpt4",
        "outputId": "24729d10-b535-4ace-f17f-3bb1b0627701"
      },
      "execution_count": 1,
      "outputs": [
        {
          "output_type": "stream",
          "name": "stdout",
          "text": [
            "Reading package lists... Done\n",
            "Building dependency tree       \n",
            "Reading state information... Done\n",
            "swi-prolog is already the newest version (7.6.4+dfsg-1build1).\n",
            "The following package was automatically installed and is no longer required:\n",
            "  libnvidia-common-460\n",
            "Use 'apt autoremove' to remove it.\n",
            "0 upgraded, 0 newly installed, 0 to remove and 42 not upgraded.\n"
          ]
        }
      ]
    },
    {
      "cell_type": "code",
      "source": [
        "!pip install pyswip"
      ],
      "metadata": {
        "colab": {
          "base_uri": "https://localhost:8080/"
        },
        "id": "3J4aZ6QWDrAH",
        "outputId": "3ad52906-0160-41cb-8697-8006c5a01605"
      },
      "execution_count": 2,
      "outputs": [
        {
          "output_type": "stream",
          "name": "stdout",
          "text": [
            "Looking in indexes: https://pypi.org/simple, https://us-python.pkg.dev/colab-wheels/public/simple/\n",
            "Requirement already satisfied: pyswip in /usr/local/lib/python3.7/dist-packages (0.2.10)\n"
          ]
        }
      ]
    },
    {
      "cell_type": "markdown",
      "metadata": {
        "id": "XjqPJIy8DoM3"
      },
      "source": [
        "# 삼각형 개수 구하기\n",
        "\n",
        "![image.png](attachment:image.png)"
      ]
    },
    {
      "cell_type": "code",
      "execution_count": 3,
      "metadata": {
        "ExecuteTime": {
          "end_time": "2022-05-29T07:06:10.358730Z",
          "start_time": "2022-05-29T07:06:10.303711Z"
        },
        "id": "XtA7brUjDoM_"
      },
      "outputs": [],
      "source": [
        "from pyswip import Prolog \n",
        " \n",
        "# Prolog instance 생성 \n",
        "prolog = Prolog() "
      ]
    },
    {
      "cell_type": "markdown",
      "metadata": {
        "id": "7f3TsxKoDoNI"
      },
      "source": [
        "* Describe the picture  \n",
        "\n",
        "소문자는 하나의 점을 나타냄  \n",
        "\n",
        "[a, e, k]는 세 점의 리스트를 표현  \n",
        "\n",
        "line()은 괄호 안의 리스트가 하나의 선임을 나타냄"
      ]
    },
    {
      "cell_type": "code",
      "execution_count": 4,
      "metadata": {
        "ExecuteTime": {
          "end_time": "2022-05-29T07:06:11.702753Z",
          "start_time": "2022-05-29T07:06:11.684784Z"
        },
        "id": "k-yon4VeDoNK"
      },
      "outputs": [],
      "source": [
        "prolog.assertz(\"\"\"line([a, e, k])\"\"\") \n",
        "prolog.assertz(\"line([a, d, f, j])\") \n",
        "prolog.assertz(\"line([a, c, g, i])\") \n",
        "prolog.assertz(\"line([a, b, h])\") \n",
        "prolog.assertz(\"line([b, c, d, e])\") \n",
        "prolog.assertz(\"line([e, f, g, h])\") \n",
        "prolog.assertz(\"line([h, i, j, k])\")"
      ]
    },
    {
      "cell_type": "markdown",
      "metadata": {
        "id": "I8S8pHofDoNM"
      },
      "source": [
        "* Description of the solution   \n",
        "\n",
        "3개의 line이 존재해야 함 (L1 to L3)  \n",
        "\n",
        "2개의 line은 반드시 달라야 함. 세 점이 같은 line에 존재하는 경우는 count 하지 않음. (최소 2개의 서로 다른 line이 사용 되는지 check)  \n",
        "\n",
        "member()는 Prolog predicate. 첫번째 인자가 두번째 인자에 포함되는 경우에 true. 세 점이 서로 다른 line에서 쌍을 이루는지 확인  \n",
        "\n",
        "“@<”은 세 점이 alphabetical order인 경우에 true. (ex. [a,h,k]와 [a,k,h].) 삼각형이 같은 점을 두 번 또는 세 번 포함하는 경우 제외\n"
      ]
    },
    {
      "cell_type": "code",
      "execution_count": 5,
      "metadata": {
        "ExecuteTime": {
          "end_time": "2022-05-29T07:06:16.304226Z",
          "start_time": "2022-05-29T07:06:16.299227Z"
        },
        "id": "a63RsHKuDoNM"
      },
      "outputs": [],
      "source": [
        "prolog.assertz(\"\"\" \n",
        "triangle(A, B, C) :- \n",
        "  line(L1), \n",
        "  line(L2), \n",
        "  line(L3), \n",
        "  L1 \\= L2, \n",
        "  member(A, L1), \n",
        "  member(B, L1), \n",
        "  member(A, L2), \n",
        "  member(C, L2), \n",
        "  member(B, L3), \n",
        "  member(C, L3), \n",
        "  A @< B,\n",
        "  B @< C\"\"\") "
      ]
    },
    {
      "cell_type": "markdown",
      "metadata": {
        "id": "JPOT582jDoNO"
      },
      "source": [
        "* Ask Prolog to search for traingles and count them all "
      ]
    },
    {
      "cell_type": "code",
      "execution_count": 6,
      "metadata": {
        "ExecuteTime": {
          "end_time": "2022-05-27T03:47:00.740787Z",
          "start_time": "2022-05-27T03:47:00.692792Z"
        },
        "colab": {
          "base_uri": "https://localhost:8080/"
        },
        "id": "pPn9q7fZDoNP",
        "outputId": "f6ded5fe-05a2-482e-aed6-23181703dd5f"
      },
      "outputs": [
        {
          "output_type": "stream",
          "name": "stdout",
          "text": [
            "{'A': 'a', 'B': 'e', 'C': 'f'}\n",
            "{'A': 'a', 'B': 'e', 'C': 'g'}\n",
            "{'A': 'a', 'B': 'e', 'C': 'h'}\n",
            "{'A': 'a', 'B': 'd', 'C': 'e'}\n",
            "{'A': 'a', 'B': 'j', 'C': 'k'}\n",
            "{'A': 'a', 'B': 'f', 'C': 'g'}\n",
            "{'A': 'a', 'B': 'f', 'C': 'h'}\n",
            "{'A': 'a', 'B': 'c', 'C': 'e'}\n",
            "{'A': 'a', 'B': 'i', 'C': 'k'}\n",
            "{'A': 'a', 'B': 'c', 'C': 'd'}\n",
            "{'A': 'a', 'B': 'i', 'C': 'j'}\n",
            "{'A': 'a', 'B': 'g', 'C': 'h'}\n",
            "{'A': 'a', 'B': 'b', 'C': 'e'}\n",
            "{'A': 'a', 'B': 'h', 'C': 'k'}\n",
            "{'A': 'a', 'B': 'b', 'C': 'd'}\n",
            "{'A': 'a', 'B': 'h', 'C': 'j'}\n",
            "{'A': 'a', 'B': 'b', 'C': 'c'}\n",
            "{'A': 'a', 'B': 'h', 'C': 'i'}\n",
            "{'A': 'd', 'B': 'e', 'C': 'f'}\n",
            "{'A': 'c', 'B': 'e', 'C': 'g'}\n",
            "{'A': 'b', 'B': 'e', 'C': 'h'}\n",
            "{'A': 'e', 'B': 'h', 'C': 'k'}\n",
            "{'A': 'f', 'B': 'h', 'C': 'j'}\n",
            "{'A': 'g', 'B': 'h', 'C': 'i'}\n",
            "There are 24 triangles.\n"
          ]
        }
      ],
      "source": [
        "total = 0 \n",
        "for result in prolog.query(\"triangle(A, B, C)\"): \n",
        "  print(result) \n",
        "  total += 1 \n",
        "print(\"There are\", total, \"triangles.\")"
      ]
    },
    {
      "cell_type": "markdown",
      "metadata": {
        "id": "trFMiv6JDoNS"
      },
      "source": [
        "# 하노이의 탑"
      ]
    },
    {
      "cell_type": "markdown",
      "metadata": {
        "id": "WsL5y966DoNT"
      },
      "source": [
        "```python\n",
        "def registerForeign(func, name=None, arity=None, flags=0):\n",
        "    \"\"\"Register a Python predicate\n",
        "    ``func``: Function to be registered. The function should return a value in\n",
        "    ``foreign_t``, ``True`` or ``False``.\n",
        "    ``name`` : Name of the function. If this value is not used, ``func.func_name``\n",
        "    should exist.\n",
        "    ``arity``: Arity (number of arguments) of the function. If this value is not\n",
        "    used, ``func.arity`` should exist.\n",
        "    \"\"\"\n",
        "```"
      ]
    },
    {
      "cell_type": "code",
      "execution_count": 7,
      "metadata": {
        "ExecuteTime": {
          "end_time": "2022-05-29T06:39:50.799993Z",
          "start_time": "2022-05-29T06:39:50.785020Z"
        },
        "id": "jDsMrYTVDoNU"
      },
      "outputs": [],
      "source": [
        "from __future__ import print_function\n",
        "from pyswip.prolog import Prolog\n",
        "from pyswip.easy import getList, registerForeign\n",
        "\n",
        "N = 3  # Number of disks\n",
        "\n",
        "def main():\n",
        "    def notify(t):\n",
        "        print(\"move disk from %s pole to %s pole.\" % tuple(t))\n",
        "    notify.arity = 1\n",
        "        \n",
        "    prolog = Prolog()\n",
        "    registerForeign(notify)\n",
        "    prolog.consult(\"hanoi.pl\")\n",
        "    list(prolog.query(\"hanoi(%d)\" % N))"
      ]
    },
    {
      "cell_type": "code",
      "execution_count": 8,
      "metadata": {
        "ExecuteTime": {
          "end_time": "2022-05-29T06:39:51.025477Z",
          "start_time": "2022-05-29T06:39:51.011475Z"
        },
        "scrolled": true,
        "colab": {
          "base_uri": "https://localhost:8080/"
        },
        "id": "AQPTLXS5DoNV",
        "outputId": "bf81ab3e-a0f0-4f42-f1b5-9d7b4bb3ea8b"
      },
      "outputs": [
        {
          "output_type": "stream",
          "name": "stdout",
          "text": [
            "move disk from left pole to right pole.\n",
            "move disk from left pole to center pole.\n",
            "move disk from right pole to center pole.\n",
            "move disk from left pole to right pole.\n",
            "move disk from center pole to left pole.\n",
            "move disk from center pole to right pole.\n",
            "move disk from left pole to right pole.\n"
          ]
        }
      ],
      "source": [
        "main()"
      ]
    },
    {
      "cell_type": "code",
      "execution_count": 9,
      "metadata": {
        "ExecuteTime": {
          "end_time": "2022-05-29T06:55:01.898230Z",
          "start_time": "2022-05-29T06:55:01.885204Z"
        },
        "id": "4qraz_ruDoNW"
      },
      "outputs": [],
      "source": [
        "from __future__ import print_function\n",
        "from collections import deque\n",
        "\n",
        "from pyswip.prolog import Prolog\n",
        "from pyswip.easy import getList, registerForeign\n",
        "\n",
        "try:\n",
        "    input = raw_input\n",
        "except NameError:\n",
        "    pass\n",
        "\n",
        "\n",
        "class Notifier:\n",
        "    def __init__(self, fun):\n",
        "        self.fun = fun\n",
        "        \n",
        "    def notify(self, t):\n",
        "        return not self.fun(t)\n",
        "    notify.arity = 1"
      ]
    },
    {
      "cell_type": "code",
      "execution_count": 10,
      "metadata": {
        "ExecuteTime": {
          "end_time": "2022-05-29T06:55:02.303204Z",
          "start_time": "2022-05-29T06:55:02.287204Z"
        },
        "id": "-IjYVPmbDoNW"
      },
      "outputs": [],
      "source": [
        "class Tower:\n",
        "    def __init__(self, N=3, interactive=False):\n",
        "        \"\"\"N is the number of disks\n",
        "        \"\"\"\n",
        "        self.N = N\n",
        "        self.disks = dict(left=deque(range(N, 0, -1)), center=deque(), right=deque())\n",
        "        self.started = False\n",
        "        self.interactive = interactive\n",
        "        self.step = 0\n",
        "        \n",
        "    def move(self, r):\n",
        "        if not self.started:\n",
        "            self.step += 1\n",
        "            if self.draw():\n",
        "                return True\n",
        "            self.started = True\n",
        "        disks = self.disks\n",
        "        disks[str(r[1])].append(disks[str(r[0])].pop())\n",
        "        self.step += 1\n",
        "        return self.draw()\n",
        "        \n",
        "    def draw(self):\n",
        "        disks = self.disks\n",
        "        print(\"\\n Step\", self.step)\n",
        "        for i in range(self.N):\n",
        "            n = self.N - i - 1\n",
        "            print(\" \", end=\" \")\n",
        "            for pole in [\"left\", \"center\", \"right\"]:\n",
        "                if len(disks[pole]) - n > 0:\n",
        "                    print(disks[pole][n], end=\" \")\n",
        "                else:\n",
        "                    print(\" \", end=\" \")\n",
        "            print()\n",
        "        print(\"-\" * 9)\n",
        "        print(\" \", \"L\", \"C\", \"R\")\n",
        "        if self.interactive:\n",
        "            cont = input(\"Press 'n' to finish: \")\n",
        "            return cont.lower() == \"n\""
      ]
    },
    {
      "cell_type": "code",
      "execution_count": 11,
      "metadata": {
        "ExecuteTime": {
          "end_time": "2022-05-29T06:55:02.483201Z",
          "start_time": "2022-05-29T06:55:02.469201Z"
        },
        "id": "w_S3-S3cDoNX"
      },
      "outputs": [],
      "source": [
        "def main():\n",
        "    N = 3\n",
        "    INTERACTIVITY = True\n",
        "    \n",
        "    prolog = Prolog()\n",
        "    tower = Tower(N, INTERACTIVITY)\n",
        "    notifier = Notifier(tower.move)\n",
        "    registerForeign(notifier.notify)\n",
        "    prolog.consult(\"hanoi.pl\")\n",
        "    list(prolog.query(\"hanoi(%d)\" % N))"
      ]
    },
    {
      "cell_type": "code",
      "execution_count": 12,
      "metadata": {
        "ExecuteTime": {
          "end_time": "2022-05-29T06:55:12.595318Z",
          "start_time": "2022-05-29T06:55:03.603415Z"
        },
        "colab": {
          "base_uri": "https://localhost:8080/"
        },
        "id": "nMTUZeTVDoNY",
        "outputId": "73c03ffc-37c6-4eae-bb31-065dc367376c"
      },
      "outputs": [
        {
          "name": "stdout",
          "output_type": "stream",
          "text": [
            "\n",
            " Step 1\n",
            "  1     \n",
            "  2     \n",
            "  3     \n",
            "---------\n",
            "  L C R\n",
            "Press 'n' to finish: n\n"
          ]
        }
      ],
      "source": [
        "main()"
      ]
    },
    {
      "cell_type": "markdown",
      "metadata": {
        "id": "l77dNdx-DoNZ"
      },
      "source": [
        "# FWGC"
      ]
    },
    {
      "cell_type": "code",
      "execution_count": 13,
      "metadata": {
        "ExecuteTime": {
          "end_time": "2022-05-29T05:36:13.725234Z",
          "start_time": "2022-05-29T05:36:13.718234Z"
        },
        "id": "6Jl-XSEADoNa"
      },
      "outputs": [],
      "source": [
        "from pyswip import Prolog\n",
        "\n",
        "from pyswip.core import *\n",
        "from pyswip import Functor, Variable, Query, call"
      ]
    },
    {
      "cell_type": "code",
      "execution_count": 14,
      "metadata": {
        "ExecuteTime": {
          "end_time": "2022-05-29T05:36:13.920774Z",
          "start_time": "2022-05-29T05:36:13.912775Z"
        },
        "id": "GV7FZvLmDoNa"
      },
      "outputs": [],
      "source": [
        "prolog = Prolog()\n",
        "\n",
        "# state = Functor(\"state\", 4)\n",
        "\n",
        "prolog.consult('5-1-FWGC_wo_Print.pl')"
      ]
    },
    {
      "cell_type": "code",
      "execution_count": 15,
      "metadata": {
        "ExecuteTime": {
          "end_time": "2022-05-29T05:36:25.201666Z",
          "start_time": "2022-05-29T05:36:25.167663Z"
        },
        "colab": {
          "base_uri": "https://localhost:8080/"
        },
        "id": "LxfiOFq9DoNb",
        "outputId": "5da19795-da4e-42fe-80ce-120ae1491ec6"
      },
      "outputs": [
        {
          "output_type": "execute_result",
          "data": {
            "text/plain": [
              "[{}]"
            ]
          },
          "metadata": {},
          "execution_count": 15
        }
      ],
      "source": [
        "list(prolog.query(\"test\"))"
      ]
    },
    {
      "cell_type": "code",
      "execution_count": 16,
      "metadata": {
        "ExecuteTime": {
          "end_time": "2022-05-29T05:36:25.893406Z",
          "start_time": "2022-05-29T05:36:25.876402Z"
        },
        "colab": {
          "base_uri": "https://localhost:8080/"
        },
        "id": "9VnFci2LDoNc",
        "outputId": "e5c09cb0-96d7-4387-f52f-dad1a32cad4c"
      },
      "outputs": [
        {
          "output_type": "execute_result",
          "data": {
            "text/plain": [
              "[{'X': [Functor(13513229,4,e,e,e,e),\n",
              "   Functor(13513229,4,w,e,w,e),\n",
              "   Functor(13513229,4,e,e,w,e),\n",
              "   Functor(13513229,4,w,e,w,w),\n",
              "   Functor(13513229,4,e,e,e,w),\n",
              "   Functor(13513229,4,w,w,e,w),\n",
              "   Functor(13513229,4,e,w,e,w),\n",
              "   Functor(13513229,4,w,w,w,w)]}]"
            ]
          },
          "metadata": {},
          "execution_count": 16
        }
      ],
      "source": [
        "sol = list(prolog.query('sol(X)'))\n",
        "sol"
      ]
    },
    {
      "cell_type": "code",
      "execution_count": 17,
      "metadata": {
        "ExecuteTime": {
          "end_time": "2022-05-29T05:36:36.942170Z",
          "start_time": "2022-05-29T05:36:36.932170Z"
        },
        "colab": {
          "base_uri": "https://localhost:8080/"
        },
        "id": "i_CTff_uDoNc",
        "outputId": "cbe2b60d-fef3-4bc3-cb1e-fbb54a1fd06b"
      },
      "outputs": [
        {
          "output_type": "stream",
          "name": "stdout",
          "text": [
            "state(w, w, w, w)\n",
            "state(e, w, e, w)\n",
            "state(w, w, e, w)\n",
            "state(e, e, e, w)\n",
            "state(w, e, w, w)\n",
            "state(e, e, w, e)\n",
            "state(w, e, w, e)\n",
            "state(e, e, e, e)\n"
          ]
        }
      ],
      "source": [
        "for x in sol[0]['X'][::-1]:\n",
        "    print(x)"
      ]
    },
    {
      "cell_type": "markdown",
      "metadata": {
        "id": "_WchOrEeDoNc"
      },
      "source": [
        "# Pythonic interface (Experimental)"
      ]
    },
    {
      "cell_type": "code",
      "execution_count": 18,
      "metadata": {
        "ExecuteTime": {
          "end_time": "2022-05-29T05:29:47.855925Z",
          "start_time": "2022-05-29T05:29:47.803895Z"
        },
        "id": "s2S38WmEDoNd"
      },
      "outputs": [],
      "source": [
        "from __future__ import print_function\n",
        "from pyswip import Functor, Variable, Query, call\n",
        "\n",
        "assertz = Functor(\"assertz\", 1)\n",
        "father = Functor(\"father\", 2)\n",
        "call(assertz(father(\"michael\",\"john\")))\n",
        "call(assertz(father(\"michael\",\"gina\")))\n",
        "X = Variable()"
      ]
    },
    {
      "cell_type": "code",
      "execution_count": 19,
      "metadata": {
        "ExecuteTime": {
          "end_time": "2022-05-29T05:26:54.483251Z",
          "start_time": "2022-05-29T05:26:54.434254Z"
        },
        "colab": {
          "base_uri": "https://localhost:8080/"
        },
        "id": "6qfHG3YdDoNd",
        "outputId": "0e69a507-1807-4319-bf55-34263bf48dac"
      },
      "outputs": [
        {
          "output_type": "stream",
          "name": "stdout",
          "text": [
            "Hello, john\n",
            "Hello, gina\n"
          ]
        }
      ],
      "source": [
        "q = Query(father(\"michael\",X))\n",
        "while q.nextSolution():\n",
        "    print(\"Hello,\", X.value)\n",
        "q.closeQuery()"
      ]
    }
  ],
  "metadata": {
    "kernelspec": {
      "display_name": "pyswip",
      "language": "python",
      "name": "pyswip"
    },
    "language_info": {
      "codemirror_mode": {
        "name": "ipython",
        "version": 3
      },
      "file_extension": ".py",
      "mimetype": "text/x-python",
      "name": "python",
      "nbconvert_exporter": "python",
      "pygments_lexer": "ipython3",
      "version": "3.8.5"
    },
    "toc": {
      "base_numbering": 1,
      "nav_menu": {},
      "number_sections": true,
      "sideBar": true,
      "skip_h1_title": false,
      "title_cell": "Table of Contents",
      "title_sidebar": "Contents",
      "toc_cell": false,
      "toc_position": {},
      "toc_section_display": true,
      "toc_window_display": false
    },
    "varInspector": {
      "cols": {
        "lenName": 16,
        "lenType": 16,
        "lenVar": 40
      },
      "kernels_config": {
        "python": {
          "delete_cmd_postfix": "",
          "delete_cmd_prefix": "del ",
          "library": "var_list.py",
          "varRefreshCmd": "print(var_dic_list())"
        },
        "r": {
          "delete_cmd_postfix": ") ",
          "delete_cmd_prefix": "rm(",
          "library": "var_list.r",
          "varRefreshCmd": "cat(var_dic_list()) "
        }
      },
      "types_to_exclude": [
        "module",
        "function",
        "builtin_function_or_method",
        "instance",
        "_Feature"
      ],
      "window_display": false
    },
    "colab": {
      "name": "Pyswip code.ipynb",
      "provenance": []
    }
  },
  "nbformat": 4,
  "nbformat_minor": 0
}